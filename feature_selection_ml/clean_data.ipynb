{
 "cells": [
  {
   "cell_type": "markdown",
   "id": "29d1a56e",
   "metadata": {},
   "source": [
    "## 1. Latest Year Specific Features Analysis\n",
    "Only 479 rows..... "
   ]
  },
  {
   "cell_type": "code",
   "execution_count": 12,
   "id": "dde4e82b",
   "metadata": {},
   "outputs": [],
   "source": [
    "# Query snowflake directly at some point, but for now create. FP3 DATE and FP3 TIME\n",
    "import pandas as pd\n",
    "df = pd.read_csv('../races_drivers.csv').drop(['URL','DRIVERREF','YEAR','NAME','URL_2','NUMBER_2','NUMBER','CODE','FORENAME','SURNAME','POSITIONTEXT','FP3_DATE','FP3_TIME'], axis=1)\n",
    "\n",
    "# Merge the duplicates columns into 1, only the non null values. otherwise if no null values leave as is. \n",
    "df['RACEID'] = df['RACEID'].where(df['RACEID'].notna(), df['RACEID_2'])\n",
    "df['DRIVERID'] = df['DRIVERID'].where(df['DRIVERID'].notna(), df['DRIVERID_2'])\n",
    "df['TIME'] = df['TIME'].where(df['TIME'].notna(), df['TIME_2'])\n",
    "df = df.drop(['TIME_2','DRIVERID_2','RACEID_2'],axis=1)\n",
    "\n",
    "# POSITION and POSITION ORDER= has R for retired\n",
    "# Name maybe get rid of as it has circuitID, year as it is all 2024\n",
    "# Nationality drop or one hot encode \n",
    "# some rows are nan for miliseconds, fastestlap, fastestlaptime, \n"
   ]
  },
  {
   "cell_type": "code",
   "execution_count": null,
   "id": "e9fc3c62",
   "metadata": {},
   "outputs": [
    {
     "data": {
      "application/vnd.microsoft.datawrangler.viewer.v0+json": {
       "columns": [
        {
         "name": "index",
         "rawType": "object",
         "type": "string"
        },
        {
         "name": "0",
         "rawType": "int64",
         "type": "integer"
        }
       ],
       "ref": "438ac4bb-9284-4d1f-890c-3406870078da",
       "rows": [
        [
         "SPRINT_DATE",
         "359"
        ],
        [
         "SPRINT_TIME",
         "359"
        ],
        [
         "POSITION",
         "48"
        ],
        [
         "MILLISECONDS",
         "191"
        ],
        [
         "FASTESTLAP",
         "32"
        ],
        [
         "FASTESTLAPTIME",
         "32"
        ],
        [
         "FASTESTLAPSPEED",
         "32"
        ]
       ],
       "shape": {
        "columns": 1,
        "rows": 7
       }
      },
      "text/plain": [
       "SPRINT_DATE        359\n",
       "SPRINT_TIME        359\n",
       "POSITION            48\n",
       "MILLISECONDS       191\n",
       "FASTESTLAP          32\n",
       "FASTESTLAPTIME      32\n",
       "FASTESTLAPSPEED     32\n",
       "dtype: int64"
      ]
     },
     "execution_count": 13,
     "metadata": {},
     "output_type": "execute_result"
    }
   ],
   "source": [
    "# Handling nulls. Which columns have nulls? Drop all columns that have loads of nulls (miliseconds and sprint _Date )\n",
    "null_counts= df.isnull().sum()\n",
    "null_counts[null_counts > 0]\n"
   ]
  },
  {
   "cell_type": "code",
   "execution_count": null,
   "id": "6846a510",
   "metadata": {},
   "outputs": [],
   "source": []
  }
 ],
 "metadata": {
  "kernelspec": {
   "display_name": "Python 3",
   "language": "python",
   "name": "python3"
  },
  "language_info": {
   "codemirror_mode": {
    "name": "ipython",
    "version": 3
   },
   "file_extension": ".py",
   "mimetype": "text/x-python",
   "name": "python",
   "nbconvert_exporter": "python",
   "pygments_lexer": "ipython3",
   "version": "3.12.0"
  }
 },
 "nbformat": 4,
 "nbformat_minor": 5
}
